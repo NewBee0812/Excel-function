{
 "cells": [
  {
   "cell_type": "code",
   "execution_count": 1,
   "id": "5d19354f-8f4e-40a0-85d6-7299cee7a7fb",
   "metadata": {},
   "outputs": [],
   "source": [
    "import os, time\n",
    "import pandas as pd\n",
    "import openpyxl"
   ]
  },
  {
   "cell_type": "code",
   "execution_count": 2,
   "id": "269c8d66-57ab-4e43-aacd-935df0b5fbe6",
   "metadata": {},
   "outputs": [
    {
     "name": "stdout",
     "output_type": "stream",
     "text": [
      "<bound method DataFrame.info of           受編  姓名   代號    ID    保費\n",
      "0    2023454  小明  D02  D123   100\n",
      "1    1516416  曉華  D02  F123   230\n",
      "2     54622M  小光  G02  D123    33\n",
      "3    486541M  小明  G02  D123    50\n",
      "4    486546M  小光  G02  A852   222\n",
      "5   1564561M  小光  E02  D123    15\n",
      "6    1234884  小普  T02  E123  1310\n",
      "7    M321642  小安  R02  W123   235\n",
      "8   M1357487  小光  G02  D123  2555\n",
      "9   M1357486  小光  G02  D123  2555\n",
      "10   M135745  小光  G02  D123  2555>\n",
      "['受編', '姓名', '代號', 'ID', '保費']\n",
      "          受編    ID\n",
      "0    2023454  D123\n",
      "1    1516416  F123\n",
      "2     54622M  D123\n",
      "3    486541M  D123\n",
      "4    486546M  A852\n",
      "5   1564561M  D123\n",
      "6    1234884  E123\n",
      "7    M321642  W123\n",
      "8   M1357487  D123\n",
      "9   M1357486  D123\n",
      "10   M135745  D123\n"
     ]
    }
   ],
   "source": [
    "df = pd.read_excel(\"D:/SideProject/excel/tada.xlsx\")\n",
    "df.describe().T\n",
    "print(df.info)\n",
    "print(list(df.columns))\n",
    "print(df[[\"受編\", \"ID\"]])"
   ]
  },
  {
   "cell_type": "code",
   "execution_count": 3,
   "id": "d9b8e029-f1f3-4611-a2cf-51a0d7bd629c",
   "metadata": {},
   "outputs": [
    {
     "name": "stdout",
     "output_type": "stream",
     "text": [
      "          受編  姓名   代號    ID    保費 mix_column\n",
      "0    2023454  小明  D02  D123   100    D02D123\n",
      "1    1516416  曉華  D02  F123   230    D02F123\n",
      "2     54622M  小光  G02  D123    33    G02D123\n",
      "3    486541M  小明  G02  D123    50    G02D123\n",
      "4    486546M  小光  G02  A852   222    G02A852\n",
      "5   1564561M  小光  E02  D123    15    E02D123\n",
      "6    1234884  小普  T02  E123  1310    T02E123\n",
      "7    M321642  小安  R02  W123   235    R02W123\n",
      "8   M1357487  小光  G02  D123  2555    G02D123\n",
      "9   M1357486  小光  G02  D123  2555    G02D123\n",
      "10   M135745  小光  G02  D123  2555    G02D123\n"
     ]
    }
   ],
   "source": [
    "duplicate_value=[]\n",
    "df[\"代號\"] = df[\"代號\"].astype(str)\n",
    "df[\"mix_column\"] = df[\"代號\"] + df[\"ID\"]\n",
    "print(df)"
   ]
  },
  {
   "cell_type": "code",
   "execution_count": 4,
   "id": "ec50dbf3-dcf8-4e5f-8ad9-a407bd9b5c15",
   "metadata": {},
   "outputs": [
    {
     "name": "stdout",
     "output_type": "stream",
     "text": [
      "   mix_column    保費\n",
      "0     D02D123   100\n",
      "1     D02F123   230\n",
      "2     G02D123    33\n",
      "3     G02D123    50\n",
      "4     G02A852   222\n",
      "5     E02D123    15\n",
      "6     T02E123  1310\n",
      "7     R02W123   235\n",
      "8     G02D123  2555\n",
      "9     G02D123  2555\n",
      "10    G02D123  2555\n",
      "              保費\n",
      "mix_column      \n",
      "D02D123      100\n",
      "D02F123      230\n",
      "E02D123       15\n",
      "G02A852      222\n",
      "G02D123     2555\n",
      "R02W123      235\n",
      "T02E123     1310\n"
     ]
    }
   ],
   "source": [
    "# for i, c, v in zip(df[\"受編\"], df[\"mix_column\"], df[\"保費\"]):\n",
    "new_df = df.loc[::,[\"mix_column\", \"保費\"]]\n",
    "print(new_df)\n",
    "max_df = new_df.groupby(\"mix_column\").max()\n",
    "print(max_df)\n"
   ]
  },
  {
   "cell_type": "code",
   "execution_count": 9,
   "id": "ccba0ed8-f06b-42d7-b70e-e969123f6bc1",
   "metadata": {},
   "outputs": [
    {
     "name": "stdout",
     "output_type": "stream",
     "text": [
      "          受編  姓名   代號    ID    保費 mix_column    最優保費\n",
      "0    2023454  小明  D02  D123   100    D02D123   100.0\n",
      "1    1516416  曉華  D02  F123   230    D02F123   230.0\n",
      "2     54622M  小光  G02  D123    33    G02D123     NaN\n",
      "3    486541M  小明  G02  D123    50    G02D123     NaN\n",
      "4    486546M  小光  G02  A852   222    G02A852   222.0\n",
      "5   1564561M  小光  E02  D123    15    E02D123    15.0\n",
      "6    1234884  小普  T02  E123  1310    T02E123  1310.0\n",
      "7    M321642  小安  R02  W123   235    R02W123   235.0\n",
      "8   M1357487  小光  G02  D123  2555    G02D123  2555.0\n",
      "9   M1357486  小光  G02  D123  2555    G02D123     NaN\n",
      "10   M135745  小光  G02  D123  2555    G02D123     NaN\n"
     ]
    }
   ],
   "source": [
    "index_to_update = []\n",
    "max_df_n = max_df.reset_index()\n",
    "\n",
    "for mix, values in zip(max_df_n[\"mix_column\"], max_df_n[\"保費\"]):\n",
    "    indexes = df.index[(df['保費'] == values) & (df[\"mix_column\"]== mix)].tolist()\n",
    "    index_to_update.append(indexes)\n",
    "for index, value in zip(index_to_update, max_df_n[\"保費\"]):\n",
    "    i = int(index[0])\n",
    "    df.loc[i:i,\"最優保費\"] =  value\n",
    "print(df)"
   ]
  },
  {
   "cell_type": "code",
   "execution_count": null,
   "id": "b301a987-745d-4702-b79a-4254b35c8e86",
   "metadata": {},
   "outputs": [],
   "source": []
  }
 ],
 "metadata": {
  "kernelspec": {
   "display_name": "Python 3 (ipykernel)",
   "language": "python",
   "name": "python3"
  },
  "language_info": {
   "codemirror_mode": {
    "name": "ipython",
    "version": 3
   },
   "file_extension": ".py",
   "mimetype": "text/x-python",
   "name": "python",
   "nbconvert_exporter": "python",
   "pygments_lexer": "ipython3",
   "version": "3.11.8"
  }
 },
 "nbformat": 4,
 "nbformat_minor": 5
}

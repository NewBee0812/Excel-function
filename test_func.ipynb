{
 "cells": [
  {
   "cell_type": "code",
   "execution_count": 1,
   "id": "5d19354f-8f4e-40a0-85d6-7299cee7a7fb",
   "metadata": {},
   "outputs": [],
   "source": [
    "import os, time\n",
    "import pandas as pd\n",
    "import openpyxl"
   ]
  },
  {
   "cell_type": "code",
   "execution_count": 22,
   "id": "269c8d66-57ab-4e43-aacd-935df0b5fbe6",
   "metadata": {},
   "outputs": [
    {
     "name": "stdout",
     "output_type": "stream",
     "text": [
      "<bound method DataFrame.info of     序號          受編  名字        ID   保費\n",
      "0    1     2134646  小名  D5648652  100\n",
      "1    2      145626  曉華  T1234562  200\n",
      "2    3     1548616  小莉   D123445   20\n",
      "3    4    15462M46  小安  S5442116  300\n",
      "4    5  548964M456  小陳   A221114  400\n",
      "5    6    4964965M  小陳   A221114  500\n",
      "6    7      489856  小安  S5442116  132\n",
      "7    8     5498546  小明    A12345   50\n",
      "8    9     5498546  小明    A12345  200\n",
      "9   10     5498546  小明   D123445  100\n",
      "10  11     564516M  小澤   W123456  200\n",
      "11  12     489549M  小一   F216562   30\n",
      "12  13     489558M  小莉   D123445  455\n",
      "13  14      446986  小季   F544546  666\n",
      "14  15     1489448  小廝    E12356  554>\n",
      "['序號', '受編', '名字', 'ID', '保費']\n",
      "            受編        ID\n",
      "0      2134646  D5648652\n",
      "1       145626  T1234562\n",
      "2      1548616   D123445\n",
      "3     15462M46  S5442116\n",
      "4   548964M456   A221114\n",
      "5     4964965M   A221114\n",
      "6       489856  S5442116\n",
      "7      5498546    A12345\n",
      "8      5498546    A12345\n",
      "9      5498546   D123445\n",
      "10     564516M   W123456\n",
      "11     489549M   F216562\n",
      "12     489558M   D123445\n",
      "13      446986   F544546\n",
      "14     1489448    E12356\n"
     ]
    }
   ],
   "source": [
    "df = pd.read_excel(\"excel_prac.xlsx\")\n",
    "df.describe().T\n",
    "print(df.info)\n",
    "print(list(df.columns))\n",
    "print(df[[\"受編\", \"ID\"]])"
   ]
  },
  {
   "cell_type": "code",
   "execution_count": 23,
   "id": "d9b8e029-f1f3-4611-a2cf-51a0d7bd629c",
   "metadata": {},
   "outputs": [
    {
     "name": "stdout",
     "output_type": "stream",
     "text": [
      "    序號          受編  名字        ID   保費         mix_column\n",
      "0    1     2134646  小名  D5648652  100    2134646D5648652\n",
      "1    2      145626  曉華  T1234562  200     145626T1234562\n",
      "2    3     1548616  小莉   D123445   20     1548616D123445\n",
      "3    4    15462M46  小安  S5442116  300   15462M46S5442116\n",
      "4    5  548964M456  小陳   A221114  400  548964M456A221114\n",
      "5    6    4964965M  小陳   A221114  500    4964965MA221114\n",
      "6    7      489856  小安  S5442116  132     489856S5442116\n",
      "7    8     5498546  小明    A12345   50      5498546A12345\n",
      "8    9     5498546  小明    A12345  200      5498546A12345\n",
      "9   10     5498546  小明   D123445  100     5498546D123445\n",
      "10  11     564516M  小澤   W123456  200     564516MW123456\n",
      "11  12     489549M  小一   F216562   30     489549MF216562\n",
      "12  13     489558M  小莉   D123445  455     489558MD123445\n",
      "13  14      446986  小季   F544546  666      446986F544546\n",
      "14  15     1489448  小廝    E12356  554      1489448E12356\n"
     ]
    }
   ],
   "source": [
    "duplicate_value=[]\n",
    "df[\"受編\"] = df[\"受編\"].astype(str)\n",
    "df[\"mix_column\"] = df[\"受編\"] + df[\"ID\"]\n",
    "print(df)"
   ]
  },
  {
   "cell_type": "code",
   "execution_count": 48,
   "id": "ec50dbf3-dcf8-4e5f-8ad9-a407bd9b5c15",
   "metadata": {},
   "outputs": [
    {
     "name": "stdout",
     "output_type": "stream",
     "text": [
      "           mix_column   保費\n",
      "0     2134646D5648652  100\n",
      "1      145626T1234562  200\n",
      "2      1548616D123445   20\n",
      "3    15462M46S5442116  300\n",
      "4   548964M456A221114  400\n",
      "5     4964965MA221114  500\n",
      "6      489856S5442116  132\n",
      "7       5498546A12345   50\n",
      "8       5498546A12345  200\n",
      "9      5498546D123445  100\n",
      "10     564516MW123456  200\n",
      "11     489549MF216562   30\n",
      "12     489558MD123445  455\n",
      "13      446986F544546  666\n",
      "14      1489448E12356  554\n",
      "                    保費\n",
      "mix_column            \n",
      "145626T1234562     200\n",
      "1489448E12356      554\n",
      "15462M46S5442116   300\n",
      "1548616D123445      20\n",
      "2134646D5648652    100\n",
      "446986F544546      666\n",
      "489549MF216562      30\n",
      "489558MD123445     455\n",
      "489856S5442116     132\n",
      "4964965MA221114    500\n",
      "548964M456A221114  400\n",
      "5498546A12345      200\n",
      "5498546D123445     100\n",
      "564516MW123456     200\n"
     ]
    }
   ],
   "source": [
    "# for i, c, v in zip(df[\"受編\"], df[\"mix_column\"], df[\"保費\"]):\n",
    "new_df = df.loc[::,[\"mix_column\", \"保費\"]]\n",
    "print(new_df)\n",
    "max_df = new_df.groupby(\"mix_column\").max()\n",
    "print(max_df)\n"
   ]
  },
  {
   "cell_type": "code",
   "execution_count": 67,
   "id": "ccba0ed8-f06b-42d7-b70e-e969123f6bc1",
   "metadata": {},
   "outputs": [
    {
     "name": "stdout",
     "output_type": "stream",
     "text": [
      "Index([1], dtype='int64')\n",
      "Index([14], dtype='int64')\n",
      "Index([3], dtype='int64')\n",
      "Index([2], dtype='int64')\n",
      "Index([0], dtype='int64')\n",
      "Index([13], dtype='int64')\n",
      "Index([11], dtype='int64')\n",
      "Index([12], dtype='int64')\n",
      "Index([6], dtype='int64')\n",
      "Index([5], dtype='int64')\n",
      "Index([4], dtype='int64')\n",
      "Index([8], dtype='int64')\n",
      "Index([9], dtype='int64')\n",
      "Index([10], dtype='int64')\n"
     ]
    }
   ],
   "source": [
    "index_to_update = []\n",
    "\n",
    "max_df_n = max_df.reset_index()\n",
    "for mix, values in zip(max_df_n[\"mix_column\"], max_df_n[\"保費\"]):\n",
    "    indexes = df.index[(df['保費'] == values) & (df[\"mix_column\"]== mix)]\n",
    "    print(indexes)"
   ]
  },
  {
   "cell_type": "code",
   "execution_count": null,
   "id": "53c62491-debe-4268-aba8-6630074b9506",
   "metadata": {},
   "outputs": [],
   "source": []
  }
 ],
 "metadata": {
  "kernelspec": {
   "display_name": "Python 3 (ipykernel)",
   "language": "python",
   "name": "python3"
  },
  "language_info": {
   "codemirror_mode": {
    "name": "ipython",
    "version": 3
   },
   "file_extension": ".py",
   "mimetype": "text/x-python",
   "name": "python",
   "nbconvert_exporter": "python",
   "pygments_lexer": "ipython3",
   "version": "3.11.8"
  }
 },
 "nbformat": 4,
 "nbformat_minor": 5
}
